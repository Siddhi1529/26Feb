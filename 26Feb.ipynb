{
  "nbformat": 4,
  "nbformat_minor": 0,
  "metadata": {
    "colab": {
      "provenance": []
    },
    "kernelspec": {
      "name": "python3",
      "display_name": "Python 3"
    },
    "language_info": {
      "name": "python"
    }
  },
  "cells": [
    {
      "cell_type": "code",
      "execution_count": 1,
      "metadata": {
        "id": "Cr1M3BzajHp_"
      },
      "outputs": [],
      "source": [
        "import numpy as np\n",
        "list_ = ['1', '2', '3', '4', '5']\n",
        "array_list = np.array(object=list_)\n"
      ]
    },
    {
      "cell_type": "code",
      "source": [
        "array_list"
      ],
      "metadata": {
        "colab": {
          "base_uri": "https://localhost:8080/"
        },
        "id": "KjuYFmEXjVvP",
        "outputId": "30addea2-18a4-437f-b32c-047fd488a0da"
      },
      "execution_count": 2,
      "outputs": [
        {
          "output_type": "execute_result",
          "data": {
            "text/plain": [
              "array(['1', '2', '3', '4', '5'], dtype='<U1')"
            ]
          },
          "metadata": {},
          "execution_count": 2
        }
      ]
    },
    {
      "cell_type": "markdown",
      "source": [
        "Q1. Is there any difference in the data type of variables list_ and array_list? If there is then write a code\n",
        "to print the data types of both the variables.\n"
      ],
      "metadata": {
        "id": "0abkPNshjV_H"
      }
    },
    {
      "cell_type": "code",
      "source": [
        "# Print the data type of both variables\n",
        "print(\"Data type of list_:\", type(list_))\n",
        "print(\"Data type of array_list:\", array_list.dtype)"
      ],
      "metadata": {
        "colab": {
          "base_uri": "https://localhost:8080/"
        },
        "id": "bDEZJiOOjaqp",
        "outputId": "87b25c5e-dfe1-430a-cace-736171be4bba"
      },
      "execution_count": 3,
      "outputs": [
        {
          "output_type": "stream",
          "name": "stdout",
          "text": [
            "Data type of list_: <class 'list'>\n",
            "Data type of array_list: <U1\n"
          ]
        }
      ]
    },
    {
      "cell_type": "code",
      "source": [],
      "metadata": {
        "id": "f8bYolFHjwU5"
      },
      "execution_count": null,
      "outputs": []
    },
    {
      "cell_type": "markdown",
      "source": [
        "Q2. Write a code to print the data type of each and every element of both the variables list_ and\n",
        "arra_list.\n"
      ],
      "metadata": {
        "id": "dQBFRtdpja36"
      }
    },
    {
      "cell_type": "code",
      "source": [
        "import numpy as np\n",
        "\n",
        "list_ = ['1', '2', '3', '4', '5']\n",
        "array_list = np.array(object=list_)\n",
        "\n",
        "# Print the data type of each element in the list\n",
        "print(\"Data type of each element in list_:\")\n",
        "for element in list_:\n",
        "    print(f\"Element: {element}, Data type: {type(element)}\")\n",
        "\n",
        "# Print the data type of each element in the NumPy array\n",
        "print(\"\\nData type of each element in array_list:\")\n",
        "for element in array_list:\n",
        "    print(f\"Element: {element}, Data type: {type(element)}\")\n"
      ],
      "metadata": {
        "colab": {
          "base_uri": "https://localhost:8080/"
        },
        "id": "d3xXSPJ2jcBE",
        "outputId": "193e8910-50d0-4dd3-f7f9-ed671f30bc83"
      },
      "execution_count": 4,
      "outputs": [
        {
          "output_type": "stream",
          "name": "stdout",
          "text": [
            "Data type of each element in list_:\n",
            "Element: 1, Data type: <class 'str'>\n",
            "Element: 2, Data type: <class 'str'>\n",
            "Element: 3, Data type: <class 'str'>\n",
            "Element: 4, Data type: <class 'str'>\n",
            "Element: 5, Data type: <class 'str'>\n",
            "\n",
            "Data type of each element in array_list:\n",
            "Element: 1, Data type: <class 'numpy.str_'>\n",
            "Element: 2, Data type: <class 'numpy.str_'>\n",
            "Element: 3, Data type: <class 'numpy.str_'>\n",
            "Element: 4, Data type: <class 'numpy.str_'>\n",
            "Element: 5, Data type: <class 'numpy.str_'>\n"
          ]
        }
      ]
    },
    {
      "cell_type": "code",
      "source": [],
      "metadata": {
        "id": "TQkJ0Nhhj12W"
      },
      "execution_count": null,
      "outputs": []
    },
    {
      "cell_type": "markdown",
      "source": [
        "Q3. Considering the following changes in the variable, array_list:\n",
        "array_list = np.array(object = list_, dtype = int)\n",
        "Will there be any difference in the data type of the elements present in both the variables, list_ and\n",
        "arra_list? If so then print the data types of each and every element present in both the variables, list_\n",
        "and arra_list.\n",
        "Consider the below code to answer further questions:\n",
        "import numpy as np\n",
        "num_list = [ [ 1 , 2 , 3 ] , [ 4 , 5 , 6 ] ]\n",
        "num_array = np.array(object = num_list)\n"
      ],
      "metadata": {
        "id": "cFisv5KSjcIs"
      }
    },
    {
      "cell_type": "code",
      "source": [
        "import numpy as np\n",
        "\n",
        "# Original list and array\n",
        "list_ = ['1', '2', '3', '4', '5']\n",
        "array_list = np.array(object=list_, dtype=int)\n",
        "\n",
        "# Print the data type of each element in list_\n",
        "print(\"Data type of each element in list_:\")\n",
        "for element in list_:\n",
        "    print(f\"Element: {element}, Data type: {type(element)}\")\n",
        "\n",
        "# Print the data type of each element in array_list\n",
        "print(\"\\nData type of each element in array_list:\")\n",
        "for element in array_list:\n",
        "    print(f\"Element: {element}, Data type: {type(element)}\")\n",
        "\n",
        "# num_list and num_array\n",
        "num_list = [[1, 2, 3], [4, 5, 6]]\n",
        "num_array = np.array(object=num_list)\n",
        "\n",
        "# Print the data type of each element in num_list\n",
        "print(\"\\nData type of each element in num_list:\")\n",
        "for row in num_list:\n",
        "    for element in row:\n",
        "        print(f\"Element: {element}, Data type: {type(element)}\")\n",
        "\n",
        "# Print the data type of each element in num_array\n",
        "print(\"\\nData type of each element in num_array:\")\n",
        "for row in num_array:\n",
        "    for element in row:\n",
        "        print(f\"Element: {element}, Data type: {type(element)}\")\n"
      ],
      "metadata": {
        "colab": {
          "base_uri": "https://localhost:8080/"
        },
        "id": "W470MYFFjdo-",
        "outputId": "aacf5e44-22dc-4915-8f6c-22c77215f329"
      },
      "execution_count": 5,
      "outputs": [
        {
          "output_type": "stream",
          "name": "stdout",
          "text": [
            "Data type of each element in list_:\n",
            "Element: 1, Data type: <class 'str'>\n",
            "Element: 2, Data type: <class 'str'>\n",
            "Element: 3, Data type: <class 'str'>\n",
            "Element: 4, Data type: <class 'str'>\n",
            "Element: 5, Data type: <class 'str'>\n",
            "\n",
            "Data type of each element in array_list:\n",
            "Element: 1, Data type: <class 'numpy.int64'>\n",
            "Element: 2, Data type: <class 'numpy.int64'>\n",
            "Element: 3, Data type: <class 'numpy.int64'>\n",
            "Element: 4, Data type: <class 'numpy.int64'>\n",
            "Element: 5, Data type: <class 'numpy.int64'>\n",
            "\n",
            "Data type of each element in num_list:\n",
            "Element: 1, Data type: <class 'int'>\n",
            "Element: 2, Data type: <class 'int'>\n",
            "Element: 3, Data type: <class 'int'>\n",
            "Element: 4, Data type: <class 'int'>\n",
            "Element: 5, Data type: <class 'int'>\n",
            "Element: 6, Data type: <class 'int'>\n",
            "\n",
            "Data type of each element in num_array:\n",
            "Element: 1, Data type: <class 'numpy.int64'>\n",
            "Element: 2, Data type: <class 'numpy.int64'>\n",
            "Element: 3, Data type: <class 'numpy.int64'>\n",
            "Element: 4, Data type: <class 'numpy.int64'>\n",
            "Element: 5, Data type: <class 'numpy.int64'>\n",
            "Element: 6, Data type: <class 'numpy.int64'>\n"
          ]
        }
      ]
    },
    {
      "cell_type": "code",
      "source": [],
      "metadata": {
        "id": "hRU_R0y1j_P1"
      },
      "execution_count": null,
      "outputs": []
    },
    {
      "cell_type": "markdown",
      "source": [
        "Q4. Write a code to find the following characteristics of variable, num_array:\n",
        "(i) shape\n",
        "(ii) size\n"
      ],
      "metadata": {
        "id": "A66xysFejdvY"
      }
    },
    {
      "cell_type": "code",
      "source": [
        "import numpy as np\n",
        "\n",
        "# Define num_list and num_array\n",
        "num_list = [[1, 2, 3], [4, 5, 6]]\n",
        "num_array = np.array(object=num_list)\n",
        "\n",
        "# Find and print the shape and size of num_array\n",
        "print(\"Shape of num_array:\", num_array.shape)\n",
        "print(\"Size of num_array:\", num_array.size)\n"
      ],
      "metadata": {
        "colab": {
          "base_uri": "https://localhost:8080/"
        },
        "id": "bnkpGX5Ije2W",
        "outputId": "0858c06a-a208-419c-b62c-7cc1c30cbf57"
      },
      "execution_count": 6,
      "outputs": [
        {
          "output_type": "stream",
          "name": "stdout",
          "text": [
            "Shape of num_array: (2, 3)\n",
            "Size of num_array: 6\n"
          ]
        }
      ]
    },
    {
      "cell_type": "code",
      "source": [],
      "metadata": {
        "id": "OAnNkmW8kDXh"
      },
      "execution_count": null,
      "outputs": []
    },
    {
      "cell_type": "markdown",
      "source": [
        "Q5. Write a code to create numpy array of 3*3 matrix containing zeros only, using a numpy array\n",
        "creation function.\n",
        "[Hint: The size of the array will be 9 and the shape will be (3,3).]\n"
      ],
      "metadata": {
        "id": "8lm2--7pje9b"
      }
    },
    {
      "cell_type": "code",
      "source": [
        "import numpy as np\n",
        "\n",
        "# Create a 3x3 matrix of zeros\n",
        "zeros_array = np.zeros((3, 3))\n",
        "\n",
        "# Print the created array, its shape, and size\n",
        "print(\"Array of 3x3 matrix containing zeros:\\n\", zeros_array)\n",
        "print(\"Shape of the array:\", zeros_array.shape)\n",
        "print(\"Size of the array:\", zeros_array.size)\n"
      ],
      "metadata": {
        "colab": {
          "base_uri": "https://localhost:8080/"
        },
        "id": "2mTHGMGjjgAO",
        "outputId": "37266cec-baae-4e0d-e014-cdb8c94a92bf"
      },
      "execution_count": 7,
      "outputs": [
        {
          "output_type": "stream",
          "name": "stdout",
          "text": [
            "Array of 3x3 matrix containing zeros:\n",
            " [[0. 0. 0.]\n",
            " [0. 0. 0.]\n",
            " [0. 0. 0.]]\n",
            "Shape of the array: (3, 3)\n",
            "Size of the array: 9\n"
          ]
        }
      ]
    },
    {
      "cell_type": "code",
      "source": [],
      "metadata": {
        "id": "fghLoFOCkHE_"
      },
      "execution_count": null,
      "outputs": []
    },
    {
      "cell_type": "markdown",
      "source": [
        "Q6. Create an identity matrix of shape (5,5) using numpy functions?\n",
        "[Hint: An identity matrix is a matrix containing 1 diagonally and other elements will be 0.]"
      ],
      "metadata": {
        "id": "VyU_T6AwjgKk"
      }
    },
    {
      "cell_type": "code",
      "source": [
        "import numpy as np\n",
        "\n",
        "# Create a 5x5 identity matrix\n",
        "identity_matrix = np.eye(5)\n",
        "\n",
        "# Print the identity matrix\n",
        "print(\"5x5 Identity Matrix:\\n\", identity_matrix)\n"
      ],
      "metadata": {
        "colab": {
          "base_uri": "https://localhost:8080/"
        },
        "id": "QktXLTlCjgeB",
        "outputId": "5bbaef9a-ce44-44ef-882c-77a49dae3af8"
      },
      "execution_count": 8,
      "outputs": [
        {
          "output_type": "stream",
          "name": "stdout",
          "text": [
            "5x5 Identity Matrix:\n",
            " [[1. 0. 0. 0. 0.]\n",
            " [0. 1. 0. 0. 0.]\n",
            " [0. 0. 1. 0. 0.]\n",
            " [0. 0. 0. 1. 0.]\n",
            " [0. 0. 0. 0. 1.]]\n"
          ]
        }
      ]
    }
  ]
}